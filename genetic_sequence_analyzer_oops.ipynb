{
  "nbformat": 4,
  "nbformat_minor": 0,
  "metadata": {
    "colab": {
      "provenance": []
    },
    "kernelspec": {
      "name": "python3",
      "display_name": "Python 3"
    },
    "language_info": {
      "name": "python"
    }
  },
  "cells": [
    {
      "cell_type": "code",
      "source": [
        "pip install biopython\n"
      ],
      "metadata": {
        "colab": {
          "base_uri": "https://localhost:8080/"
        },
        "id": "tUEi5366N3EO",
        "outputId": "b7ccdd05-fa28-49a0-fcee-70dc610f4657"
      },
      "execution_count": 6,
      "outputs": [
        {
          "output_type": "stream",
          "name": "stdout",
          "text": [
            "Requirement already satisfied: biopython in /usr/local/lib/python3.11/dist-packages (1.85)\n",
            "Requirement already satisfied: numpy in /usr/local/lib/python3.11/dist-packages (from biopython) (2.0.2)\n"
          ]
        }
      ]
    },
    {
      "cell_type": "code",
      "source": [
        "#  IMPORTING MODULES\n",
        "from Bio.Seq import Seq\n",
        "from Bio.SeqUtils import gc_fraction\n",
        "#  BASE CLASS: NucleotideSequence\n",
        "class NucleotideSequence:\n",
        "    def __init__(self, sequence):\n",
        "        self.sequence = Seq(sequence.upper())  # Ensures valid sequence\n",
        "\n",
        "    def gc_content(self):\n",
        "        gc = gc_fraction(self.sequence) * 100\n",
        "        return round(gc, 2)\n",
        "\n",
        "    def reverse_complement(self):\n",
        "        return self.sequence.reverse_complement()\n",
        "\n",
        "#  DNA Class\n",
        "class DNASequence(NucleotideSequence):\n",
        "    def transcribe(self):\n",
        "        return self.sequence.transcribe()\n",
        "\n",
        "\n",
        "\n",
        "#  RNA Class\n",
        "class RNASequence(NucleotideSequence):\n",
        "    def translate(self):\n",
        "        try:\n",
        "            return self.sequence.translate(to_stop=True)\n",
        "        except Exception as e:\n",
        "            return str(e)\n",
        "\n",
        "#  MAIN FUNCTION TO ANALYZE SEQUENCE\n",
        "def analyze_sequence(dna_input):\n",
        "    print(\"\\n Analyzing DNA Sequence...\")\n",
        "\n",
        "    dna = DNASequence(dna_input)\n",
        "    print(f\"Original DNA: {dna.sequence}\")\n",
        "    print(f\"GC Content: {dna.gc_content()}%\")\n",
        "    print(f\"Reverse Complement: {dna.reverse_complement()}\")\n",
        "\n",
        "    rna_seq = dna.transcribe()\n",
        "    print(f\"Transcribed RNA: {rna_seq}\")\n",
        "\n",
        "    rna = RNASequence(str(rna_seq))\n",
        "    protein = rna.translate()\n",
        "    print(f\"Translated Protein: {protein}\")\n",
        "\n",
        "\n",
        "\n",
        "#  EXAMPLE USAGE\n",
        "test_dna = \"ATGGCCATTGTAATGGGCCGCTGAAAGGGTGCCCGATAG\"\n",
        "analyze_sequence(test_dna)\n",
        "\n",
        "\n",
        "# You can also take input from the user\n",
        "user_input = input(\"Enter DNA sequence: \")\n",
        "analyze_sequence(user_input)\n",
        "\n",
        "\n",
        "\n",
        "\n",
        "\n"
      ],
      "metadata": {
        "colab": {
          "base_uri": "https://localhost:8080/"
        },
        "id": "6yRa3bRZN5UH",
        "outputId": "705275fd-3105-4338-c412-f894a772544e"
      },
      "execution_count": 8,
      "outputs": [
        {
          "output_type": "stream",
          "name": "stdout",
          "text": [
            "\n",
            "🔬 Analyzing DNA Sequence...\n",
            "Original DNA: ATGGCCATTGTAATGGGCCGCTGAAAGGGTGCCCGATAG\n",
            "GC Content: 56.41%\n",
            "Reverse Complement: CTATCGGGCACCCTTTCAGCGGCCCATTACAATGGCCAT\n",
            "Transcribed RNA: AUGGCCAUUGUAAUGGGCCGCUGAAAGGGUGCCCGAUAG\n",
            "Translated Protein: MAIVMGR\n",
            "Enter DNA sequence: ATGTCGTCTTGAATGCATAGAGAGAG\n",
            "\n",
            "🔬 Analyzing DNA Sequence...\n",
            "Original DNA: ATGTCGTCTTGAATGCATAGAGAGAG\n",
            "GC Content: 42.31%\n",
            "Reverse Complement: CTCTCTCTATGCATTCAAGACGACAT\n",
            "Transcribed RNA: AUGUCGUCUUGAAUGCAUAGAGAGAG\n",
            "Translated Protein: MSS\n"
          ]
        },
        {
          "output_type": "stream",
          "name": "stderr",
          "text": [
            "/usr/local/lib/python3.11/dist-packages/Bio/Seq.py:2879: BiopythonWarning: Partial codon, len(sequence) not a multiple of three. Explicitly trim the sequence or add trailing N before translation. This may become an error in future.\n",
            "  warnings.warn(\n"
          ]
        }
      ]
    },
    {
      "cell_type": "code",
      "source": [],
      "metadata": {
        "id": "Gg11-u9MPeXH"
      },
      "execution_count": null,
      "outputs": []
    }
  ]
}